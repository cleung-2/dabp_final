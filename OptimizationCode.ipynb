{
 "cells": [
  {
   "cell_type": "markdown",
   "id": "10f93dea",
   "metadata": {},
   "source": [
    "### Gurobi Implementation"
   ]
  },
  {
   "cell_type": "code",
   "execution_count": 1,
   "id": "b36b1660",
   "metadata": {},
   "outputs": [],
   "source": [
    "### imports\n",
    "import numpy as np\n",
    "import gurobipy as gp\n",
    "from gurobipy import GRB\n",
    "from matplotlib import pyplot as plt"
   ]
  },
  {
   "cell_type": "markdown",
   "id": "fc8bf222",
   "metadata": {},
   "source": [
    "#### Set up model parameters"
   ]
  },
  {
   "cell_type": "code",
   "execution_count": null,
   "id": "14322051",
   "metadata": {},
   "outputs": [],
   "source": [
    "# define decision variables \n",
    "num_programs = XXX\n",
    "num_counties = XXX\n",
    "counties = range(num_counties)\n",
    "programs = range(num_programs)\n",
    "\n",
    "# parameters--rates of outcomes of interest per county\n",
    "# perhaps formatted as a matrix of row x col = number of counties x number of programs\n",
    "#rates = np.array([67,num_programs])\n",
    "rates = XXX\n",
    "\n",
    "# equity constraint per county\n",
    "# equity_cap = XXX\n",
    "\n",
    "# parameter weights (from regression output)\n",
    "program_weights = XXX\n",
    "weight_direction = XXX # (-1 if we want less of an outcome, 1 if we want more of an outcome, for each program)\n",
    "\n"
   ]
  },
  {
   "cell_type": "markdown",
   "id": "6fefef38",
   "metadata": {},
   "source": [
    "#### Model setup"
   ]
  },
  {
   "cell_type": "code",
   "execution_count": null,
   "id": "36c16dfc",
   "metadata": {},
   "outputs": [],
   "source": [
    "# initialize model\n",
    "model = gp.Model()\n",
    "\n",
    "# decision variables\n",
    "X = model.addVars(counties, programs)\n",
    "\n",
    "# objective function\n",
    "model.setObjective(sum(sum(program_weights[j]*((1+(weight_direction[j]*X[i,j]))*rates[i,j]) for j in programs) for i in counties))\n",
    "\n",
    "model.modelSense = GRB.MINIMIZE\n",
    "\n",
    "# constraints\n",
    "model.addConstr(sum(X[i,j] for j in programs) <= 1) # program resource allocation constraint\n",
    "\n",
    "for i in counties:\n",
    "    #model.addConstr(sum(program_weights[j]*rates[i,j] for j in programs) - \n",
    "    #   sum(program_weights[j]*((1+(weight_direction[j]*X[i,j]))*rates[i,j]) for j in programs) >= equity_cap[i]) # equity constraint\n",
    "    \n",
    "    for j in programs: \n",
    "        model.addConstr(X[i,j] >= 0) # non-negativity\n",
    "        model.addConstr(((1+(weight_direction[j]*X[i,j]))*rates[i,j]) >= 0) # ensure rates are between [0,1]\n",
    "        model.addConstr(((1+(weight_direction[j]*X[i,j]))*rates[i,j]) <= 1) # ensure rates are between [0,1]\n",
    "\n",
    "# optimize\n",
    "model.optimize()"
   ]
  },
  {
   "cell_type": "code",
   "execution_count": null,
   "id": "97d2b91f",
   "metadata": {},
   "outputs": [],
   "source": [
    "# print allocations for first 10 counties as a check\n",
    "\n",
    "for i in range(10):\n",
    "    print('\\nCounty ', i, ' allocations:')\n",
    "    for j in programs: \n",
    "        print('Program ', j, ': ', X[i,j].x)"
   ]
  },
  {
   "cell_type": "code",
   "execution_count": null,
   "id": "fef4e27c",
   "metadata": {},
   "outputs": [],
   "source": []
  },
  {
   "cell_type": "code",
   "execution_count": null,
   "id": "2518f3b0",
   "metadata": {},
   "outputs": [],
   "source": []
  },
  {
   "cell_type": "code",
   "execution_count": null,
   "id": "0cd3adb9",
   "metadata": {},
   "outputs": [],
   "source": []
  },
  {
   "cell_type": "code",
   "execution_count": null,
   "id": "184ae2cd",
   "metadata": {},
   "outputs": [],
   "source": []
  },
  {
   "cell_type": "code",
   "execution_count": null,
   "id": "30dabbbb",
   "metadata": {},
   "outputs": [],
   "source": []
  }
 ],
 "metadata": {
  "kernelspec": {
   "display_name": "Python 3",
   "language": "python",
   "name": "python3"
  },
  "language_info": {
   "codemirror_mode": {
    "name": "ipython",
    "version": 3
   },
   "file_extension": ".py",
   "mimetype": "text/x-python",
   "name": "python",
   "nbconvert_exporter": "python",
   "pygments_lexer": "ipython3",
   "version": "3.8.8"
  }
 },
 "nbformat": 4,
 "nbformat_minor": 5
}
