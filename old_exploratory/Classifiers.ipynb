{
 "cells": [
  {
   "cell_type": "markdown",
   "metadata": {},
   "source": [
    "## Classification Models"
   ]
  },
  {
   "cell_type": "code",
   "execution_count": 127,
   "metadata": {},
   "outputs": [],
   "source": [
    "import pandas as pd\n",
    "import numpy as np\n",
    "import seaborn as sns\n",
    "import matplotlib.pyplot as plt\n",
    "from sklearn.neighbors import KNeighborsClassifier\n",
    "from sklearn.cluster import AgglomerativeClustering\n",
    "from sklearn.model_selection import train_test_split\n",
    "from sklearn.datasets import make_blobs\n",
    "from sklearn.naive_bayes import GaussianNB\n",
    "\n",
    "import warnings\n",
    "warnings.filterwarnings(\"ignore\")"
   ]
  },
  {
   "cell_type": "code",
   "execution_count": 150,
   "metadata": {},
   "outputs": [
    {
     "data": {
      "text/html": [
       "<div>\n",
       "<style scoped>\n",
       "    .dataframe tbody tr th:only-of-type {\n",
       "        vertical-align: middle;\n",
       "    }\n",
       "\n",
       "    .dataframe tbody tr th {\n",
       "        vertical-align: top;\n",
       "    }\n",
       "\n",
       "    .dataframe thead th {\n",
       "        text-align: right;\n",
       "    }\n",
       "</style>\n",
       "<table border=\"1\" class=\"dataframe\">\n",
       "  <thead>\n",
       "    <tr style=\"text-align: right;\">\n",
       "      <th></th>\n",
       "      <th>county_name</th>\n",
       "      <th>population</th>\n",
       "      <th>pop_change_2010</th>\n",
       "      <th>perc_under_18</th>\n",
       "      <th>perc_csec</th>\n",
       "      <th>perc_lowbirth</th>\n",
       "      <th>perc_prenat_1tri</th>\n",
       "      <th>perc_preterm</th>\n",
       "      <th>perc_non_smoke</th>\n",
       "      <th>fert_15_44</th>\n",
       "      <th>...</th>\n",
       "      <th>perc_smoker</th>\n",
       "      <th>hiv_tested</th>\n",
       "      <th>perc_no_healthins</th>\n",
       "      <th>perc_obese</th>\n",
       "      <th>perc_routine_checkup</th>\n",
       "      <th>beds_per_1000</th>\n",
       "      <th>inpatient_occupancy_rate</th>\n",
       "      <th>admission_per_1000</th>\n",
       "      <th>Total_MetGoals</th>\n",
       "      <th>MetGoal_Reached</th>\n",
       "    </tr>\n",
       "  </thead>\n",
       "  <tbody>\n",
       "    <tr>\n",
       "      <th>0</th>\n",
       "      <td>Clinton</td>\n",
       "      <td>38632.0</td>\n",
       "      <td>-1.5</td>\n",
       "      <td>19.5</td>\n",
       "      <td>27.3</td>\n",
       "      <td>6.8</td>\n",
       "      <td>68.8</td>\n",
       "      <td>8.8</td>\n",
       "      <td>82.9</td>\n",
       "      <td>52.5</td>\n",
       "      <td>...</td>\n",
       "      <td>21.0</td>\n",
       "      <td>33.0</td>\n",
       "      <td>8.0</td>\n",
       "      <td>36.0</td>\n",
       "      <td>89.0</td>\n",
       "      <td>0.6</td>\n",
       "      <td>27.9</td>\n",
       "      <td>19.0</td>\n",
       "      <td>2.0</td>\n",
       "      <td>1</td>\n",
       "    </tr>\n",
       "    <tr>\n",
       "      <th>1</th>\n",
       "      <td>Tioga</td>\n",
       "      <td>40591.0</td>\n",
       "      <td>-3.3</td>\n",
       "      <td>19.6</td>\n",
       "      <td>33.1</td>\n",
       "      <td>5.7</td>\n",
       "      <td>77.9</td>\n",
       "      <td>7.4</td>\n",
       "      <td>79.9</td>\n",
       "      <td>58.5</td>\n",
       "      <td>...</td>\n",
       "      <td>21.0</td>\n",
       "      <td>33.0</td>\n",
       "      <td>8.0</td>\n",
       "      <td>36.0</td>\n",
       "      <td>89.0</td>\n",
       "      <td>0.6</td>\n",
       "      <td>58.4</td>\n",
       "      <td>35.4</td>\n",
       "      <td>1.0</td>\n",
       "      <td>1</td>\n",
       "    </tr>\n",
       "    <tr>\n",
       "      <th>2</th>\n",
       "      <td>Warren</td>\n",
       "      <td>39191.0</td>\n",
       "      <td>-6.3</td>\n",
       "      <td>19.1</td>\n",
       "      <td>33.4</td>\n",
       "      <td>7.5</td>\n",
       "      <td>74.3</td>\n",
       "      <td>10.4</td>\n",
       "      <td>77.7</td>\n",
       "      <td>66.6</td>\n",
       "      <td>...</td>\n",
       "      <td>27.0</td>\n",
       "      <td>35.0</td>\n",
       "      <td>10.0</td>\n",
       "      <td>41.0</td>\n",
       "      <td>86.0</td>\n",
       "      <td>2.6</td>\n",
       "      <td>11.9</td>\n",
       "      <td>82.6</td>\n",
       "      <td>0.0</td>\n",
       "      <td>0</td>\n",
       "    </tr>\n",
       "    <tr>\n",
       "      <th>3</th>\n",
       "      <td>Wyoming</td>\n",
       "      <td>26794.0</td>\n",
       "      <td>-5.2</td>\n",
       "      <td>19.4</td>\n",
       "      <td>32.4</td>\n",
       "      <td>7.4</td>\n",
       "      <td>71.2</td>\n",
       "      <td>10.6</td>\n",
       "      <td>76.9</td>\n",
       "      <td>56.8</td>\n",
       "      <td>...</td>\n",
       "      <td>24.0</td>\n",
       "      <td>45.0</td>\n",
       "      <td>11.0</td>\n",
       "      <td>29.0</td>\n",
       "      <td>89.0</td>\n",
       "      <td>0.4</td>\n",
       "      <td>20.8</td>\n",
       "      <td>12.2</td>\n",
       "      <td>2.0</td>\n",
       "      <td>1</td>\n",
       "    </tr>\n",
       "    <tr>\n",
       "      <th>4</th>\n",
       "      <td>Potter</td>\n",
       "      <td>16526.0</td>\n",
       "      <td>-5.3</td>\n",
       "      <td>20.3</td>\n",
       "      <td>35.9</td>\n",
       "      <td>6.2</td>\n",
       "      <td>77.8</td>\n",
       "      <td>11.3</td>\n",
       "      <td>78.7</td>\n",
       "      <td>68.9</td>\n",
       "      <td>...</td>\n",
       "      <td>21.0</td>\n",
       "      <td>33.0</td>\n",
       "      <td>8.0</td>\n",
       "      <td>36.0</td>\n",
       "      <td>89.0</td>\n",
       "      <td>1.5</td>\n",
       "      <td>49.2</td>\n",
       "      <td>91.8</td>\n",
       "      <td>2.0</td>\n",
       "      <td>1</td>\n",
       "    </tr>\n",
       "  </tbody>\n",
       "</table>\n",
       "<p>5 rows × 29 columns</p>\n",
       "</div>"
      ],
      "text/plain": [
       "  county_name  population  pop_change_2010  perc_under_18  perc_csec  \\\n",
       "0     Clinton     38632.0             -1.5           19.5       27.3   \n",
       "1       Tioga     40591.0             -3.3           19.6       33.1   \n",
       "2      Warren     39191.0             -6.3           19.1       33.4   \n",
       "3     Wyoming     26794.0             -5.2           19.4       32.4   \n",
       "4      Potter     16526.0             -5.3           20.3       35.9   \n",
       "\n",
       "   perc_lowbirth  perc_prenat_1tri  perc_preterm  perc_non_smoke  fert_15_44  \\\n",
       "0            6.8              68.8           8.8            82.9        52.5   \n",
       "1            5.7              77.9           7.4            79.9        58.5   \n",
       "2            7.5              74.3          10.4            77.7        66.6   \n",
       "3            7.4              71.2          10.6            76.9        56.8   \n",
       "4            6.2              77.8          11.3            78.7        68.9   \n",
       "\n",
       "   ...  perc_smoker  hiv_tested  perc_no_healthins  perc_obese  \\\n",
       "0  ...         21.0        33.0                8.0        36.0   \n",
       "1  ...         21.0        33.0                8.0        36.0   \n",
       "2  ...         27.0        35.0               10.0        41.0   \n",
       "3  ...         24.0        45.0               11.0        29.0   \n",
       "4  ...         21.0        33.0                8.0        36.0   \n",
       "\n",
       "   perc_routine_checkup  beds_per_1000  inpatient_occupancy_rate  \\\n",
       "0                  89.0            0.6                      27.9   \n",
       "1                  89.0            0.6                      58.4   \n",
       "2                  86.0            2.6                      11.9   \n",
       "3                  89.0            0.4                      20.8   \n",
       "4                  89.0            1.5                      49.2   \n",
       "\n",
       "   admission_per_1000  Total_MetGoals  MetGoal_Reached  \n",
       "0                19.0             2.0                1  \n",
       "1                35.4             1.0                1  \n",
       "2                82.6             0.0                0  \n",
       "3                12.2             2.0                1  \n",
       "4                91.8             2.0                1  \n",
       "\n",
       "[5 rows x 29 columns]"
      ]
     },
     "execution_count": 150,
     "metadata": {},
     "output_type": "execute_result"
    }
   ],
   "source": [
    "df = pd.read_csv('./oversampled_health_outcomes.csv')\n",
    "df.head()\n"
   ]
  },
  {
   "cell_type": "code",
   "execution_count": 130,
   "metadata": {},
   "outputs": [
    {
     "data": {
      "text/plain": [
       "1    116\n",
       "0    111\n",
       "Name: MetGoal_Reached, dtype: int64"
      ]
     },
     "execution_count": 130,
     "metadata": {},
     "output_type": "execute_result"
    }
   ],
   "source": [
    "df['MetGoal_Reached'].value_counts()"
   ]
  },
  {
   "cell_type": "code",
   "execution_count": 149,
   "metadata": {},
   "outputs": [
    {
     "data": {
      "text/plain": [
       "0.0    111\n",
       "2.0     44\n",
       "1.0     39\n",
       "3.0     20\n",
       "5.0      6\n",
       "4.0      5\n",
       "6.0      2\n",
       "Name: Total_MetGoals, dtype: int64"
      ]
     },
     "execution_count": 149,
     "metadata": {},
     "output_type": "execute_result"
    }
   ],
   "source": [
    "df['Total_MetGoals'].value_counts()"
   ]
  },
  {
   "cell_type": "markdown",
   "metadata": {},
   "source": [
    "## KNN Classifier"
   ]
  },
  {
   "cell_type": "code",
   "execution_count": 135,
   "metadata": {},
   "outputs": [],
   "source": [
    "data = df.columns[1:-2]\n",
    "target = df.columns[-1]"
   ]
  },
  {
   "cell_type": "code",
   "execution_count": 136,
   "metadata": {},
   "outputs": [],
   "source": [
    "X = df[data]\n",
    "y = df[target]\n",
    "y=y.astype('int')\n",
    "\n",
    "\n",
    "# To calculate mean use imputer class\n",
    "from sklearn.impute import SimpleImputer\n",
    "imputer = SimpleImputer(missing_values=np.nan, strategy='mean')\n",
    "imputer = imputer.fit(X)\n",
    "  \n",
    "X = imputer.transform(X)"
   ]
  },
  {
   "cell_type": "code",
   "execution_count": 137,
   "metadata": {},
   "outputs": [
    {
     "name": "stdout",
     "output_type": "stream",
     "text": [
      "[0 1 1 1 1 1 0 1 1 0 0 0 1 1 0 0 1 0 0 0 1 1 0 0 0 0 0 0 1 1 1 1 0 1 0 1 0\n",
      " 1 0 0 0 0 0 1 0 0 1 0 1 1 0 1 0 0 0 0 0 0 0 1 0 0 0 1 0 0 0 1 0]\n"
     ]
    }
   ],
   "source": [
    "X_train, X_test, y_train, y_test = train_test_split(X, y, test_size = 0.3, random_state=60)\n",
    "  \n",
    "knn = KNeighborsClassifier(n_neighbors=7)\n",
    "  \n",
    "knn.fit(X_train, y_train)                                    \n",
    "print(knn.predict(X_test))"
   ]
  },
  {
   "cell_type": "code",
   "execution_count": 148,
   "metadata": {},
   "outputs": [
    {
     "data": {
      "image/png": "[encoded data removed]",
      "text/plain": [
       "<Figure size 432x288 with 1 Axes>"
      ]
     },
     "metadata": {
      "needs_background": "light"
     },
     "output_type": "display_data"
    }
   ],
   "source": [
    "neighbors = [1, 5, 8, 10, 15]\n",
    "train_accuracy = np.empty(len(neighbors))\n",
    "test_accuracy = np.empty(len(neighbors))\n",
    "  \n",
    "for i, k in enumerate(neighbors):\n",
    "    knn = KNeighborsClassifier(n_neighbors=k)\n",
    "    knn.fit(X_train, y_train)\n",
    "    train_accuracy[i] = knn.score(X_train, y_train)\n",
    "    test_accuracy[i] = knn.score(X_test, y_test)\n",
    "\n",
    "plt.plot(neighbors, test_accuracy, label = 'Testing dataset Accuracy')\n",
    "plt.plot(neighbors, train_accuracy, label = 'Training dataset Accuracy')\n",
    "  \n",
    "plt.legend()\n",
    "plt.xlabel('n_neighbors')\n",
    "plt.ylabel('Accuracy')\n",
    "plt.show()"
   ]
  },
  {
   "cell_type": "markdown",
   "metadata": {},
   "source": [
    "## Cluster Plots"
   ]
  },
  {
   "cell_type": "code",
   "execution_count": 139,
   "metadata": {},
   "outputs": [
    {
     "data": {
      "image/png": "[encoded data removed]",
      "text/plain": [
       "<Figure size 432x288 with 1 Axes>"
      ]
     },
     "metadata": {
      "needs_background": "light"
     },
     "output_type": "display_data"
    }
   ],
   "source": [
    "X, y = make_blobs(100, 2, centers=2, random_state=2, cluster_std=1.5)\n",
    "plt.scatter(X[:, 0], X[:, 1], c=y, s=50, cmap='RdBu');"
   ]
  },
  {
   "cell_type": "markdown",
   "metadata": {},
   "source": [
    "## Logistic Regression"
   ]
  },
  {
   "cell_type": "code",
   "execution_count": 140,
   "metadata": {},
   "outputs": [],
   "source": [
    "from sklearn.linear_model import LogisticRegression\n",
    "from sklearn.preprocessing import StandardScaler"
   ]
  },
  {
   "cell_type": "code",
   "execution_count": 141,
   "metadata": {},
   "outputs": [
    {
     "data": {
      "text/plain": [
       "0.9810126582278481"
      ]
     },
     "execution_count": 141,
     "metadata": {},
     "output_type": "execute_result"
    }
   ],
   "source": [
    "norm = StandardScaler().fit(X_train)\n",
    "\n",
    "## Do cross-val --> test different hyperparameters: C values, try L1 & L2 norms\n",
    "logreg = LogisticRegression(max_iter=5000)\n",
    "logreg.fit(norm.transform(X_train), y_train)\n",
    "logreg.score(norm.transform(X_train), y_train)"
   ]
  },
  {
   "cell_type": "markdown",
   "metadata": {},
   "source": [
    "## Random Forest Classifier"
   ]
  },
  {
   "cell_type": "code",
   "execution_count": 142,
   "metadata": {},
   "outputs": [],
   "source": [
    "from sklearn.ensemble import RandomForestClassifier"
   ]
  },
  {
   "cell_type": "code",
   "execution_count": 146,
   "metadata": {},
   "outputs": [
    {
     "data": {
      "text/plain": [
       "0.9710144927536232"
      ]
     },
     "execution_count": 146,
     "metadata": {},
     "output_type": "execute_result"
    }
   ],
   "source": [
    "# using only binary\n",
    "## test hyperparameters\n",
    "rf = RandomForestClassifier()\n",
    "rf.fit(X_train, y_train)\n",
    "rf.score(X_test,y_test)"
   ]
  },
  {
   "cell_type": "code",
   "execution_count": null,
   "metadata": {},
   "outputs": [],
   "source": [
    "## expand possible classifications\n",
    "rf2 = RandomForestClassifier()\n"
   ]
  }
 ],
 "metadata": {
  "kernelspec": {
   "display_name": "Python 3.8.13 ('base')",
   "language": "python",
   "name": "python3"
  },
  "language_info": {
   "codemirror_mode": {
    "name": "ipython",
    "version": 3
   },
   "file_extension": ".py",
   "mimetype": "text/x-python",
   "name": "python",
   "nbconvert_exporter": "python",
   "pygments_lexer": "ipython3",
   "version": "3.8.13"
  },
  "vscode": {
   "interpreter": {
    "hash": "c33f0cdb74b0e85534d77ab7dbfe5f6a99eb7d5467549aa723e46bc38d9b90ee"
   }
  }
 },
 "nbformat": 4,
 "nbformat_minor": 2
}
